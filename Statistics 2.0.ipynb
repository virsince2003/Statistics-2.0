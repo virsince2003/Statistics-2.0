{
 "cells": [
  {
   "cell_type": "markdown",
   "id": "d85e93bb-6eed-4add-a741-9b31d8bdf925",
   "metadata": {},
   "source": [
    "Q1. What are the three measures of central tendency?"
   ]
  },
  {
   "cell_type": "markdown",
   "id": "793dfdc4-06b1-4a0b-b194-3b3f6b2a853e",
   "metadata": {},
   "source": [
    "    The three measures of central tendency are:\n",
    "        Mean, Median, Mode"
   ]
  },
  {
   "cell_type": "markdown",
   "id": "f5619b6a-ea28-435c-bc01-da78cf6562ed",
   "metadata": {},
   "source": [
    "Q2. What is the difference between the mean, median, and mode? How are they used to measure the\n",
    "central tendency of a dataset?"
   ]
  },
  {
   "cell_type": "markdown",
   "id": "be53d156-be2f-49eb-b1a2-d022827c6fe1",
   "metadata": {},
   "source": [
    "    Mean:\n",
    "\n",
    "    The mean is the arithmetic average of all the data points in a dataset.\n",
    "    It is calculated by summing all the data values and dividing by the total number of data points.\n",
    "    The mean is sensitive to extreme outliers.\n",
    "    Median:\n",
    "\n",
    "    The median is the middle value in a dataset when the data is arranged in ascending or descending order.\n",
    "    It is not affected by extreme outliers, making it a robust measure of central tendency.\n",
    "    Mode:\n",
    "\n",
    "    The mode is the most frequent value or values in a dataset.\n",
    "    It is especially useful for nominal data with distinct categories."
   ]
  },
  {
   "cell_type": "markdown",
   "id": "be788c4c-97ba-4c4c-9fa1-a2429f3fad3d",
   "metadata": {},
   "source": [
    "Q3. Measure the three measures of central tendency for the given\n",
    "                                                                            \n",
    "    height data:\n",
    "[178,177,176,177,178.2,178,175,179,180,175,178.9,176.2,177,172.5,178,176.5]"
   ]
  },
  {
   "cell_type": "code",
   "execution_count": 9,
   "id": "25506ca8-fc03-4226-b244-77397ccd83e9",
   "metadata": {},
   "outputs": [],
   "source": [
    "import numpy as np\n",
    "import statistics as stats"
   ]
  },
  {
   "cell_type": "code",
   "execution_count": 12,
   "id": "21c6f30d-2dda-49a9-8720-967761c69590",
   "metadata": {},
   "outputs": [
    {
     "name": "stdout",
     "output_type": "stream",
     "text": [
      "Mean is equal to 177.01875\n",
      "Median is equal to 177.0\n",
      "Mode is equal to 178\n"
     ]
    }
   ],
   "source": [
    "height_data=[178,177,176,177,178.2,178,175,179,180,175,178.9,176.2,177,172.5,178,176.5]\n",
    "x=np.mean(height_data)\n",
    "y=np.median(height_data)\n",
    "z=stats.mode(height_data)\n",
    "print(\"Mean is equal to {}\".format(x))\n",
    "print(\"Median is equal to {}\".format(y))\n",
    "print(\"Mode is equal to {}\".format(z))"
   ]
  },
  {
   "cell_type": "markdown",
   "id": "c787426f-57b7-441a-a30e-f9f791c84def",
   "metadata": {},
   "source": [
    "Q4. Find the standard deviation for the given data:\n",
    "[178,177,176,177,178.2,178,175,179,180,175,178.9,176.2,177,172.5,178,176.5]"
   ]
  },
  {
   "cell_type": "code",
   "execution_count": 15,
   "id": "c4268858-6e75-46a3-b83b-06030cb77536",
   "metadata": {},
   "outputs": [
    {
     "name": "stdout",
     "output_type": "stream",
     "text": [
      "Standard Deviation: 1.7885814036548633\n"
     ]
    }
   ],
   "source": [
    "data=[178,177,176,177,178.2,178,175,179,180,175,178.9,176.2,177,172.5,178,176.5]\n",
    "x=np.std(data)\n",
    "print(\"Standard Deviation:\", x)"
   ]
  },
  {
   "cell_type": "markdown",
   "id": "561b4b19-14fd-4fee-8ac2-ca238206a3ad",
   "metadata": {},
   "source": [
    "Q5. How are measures of dispersion such as range, variance, and standard deviation used to describe\n",
    "the spread of a dataset? Provide an example."
   ]
  },
  {
   "cell_type": "markdown",
   "id": "5c6d3215-da2b-4910-ad72-1a1a30d66abd",
   "metadata": {},
   "source": [
    "    Example: Exam Scores of Students\n",
    "Dataset: [78, 82, 85, 88, 91, 72, 90, 85, 86, 84]\n",
    "\n",
    "Range:\n",
    "\n",
    "The range is the difference between the highest and lowest values in the dataset.\n",
    "Range = Maximum value - Minimum value\n",
    "Range = 91 - 72 = 19\n",
    "The range of 19 indicates the spread of exam scores is 19 points from the lowest to the highest score.\n",
    "Variance:\n",
    "\n",
    "Variance quantifies the average squared deviation of each data point from the mean of the dataset.\n",
    "Variance = Sum of (Deviation from Mean)² / Number of data points\n",
    "Deviation from Mean = Data point - Mean\n",
    "Mean ≈ 85\n",
    "Variance ≈ 29.9\n",
    "The variance of 29.9 represents the average squared deviation of exam scores from the mean. A higher variance indicates greater variability in the dataset.\n",
    "Standard Deviation:\n",
    "\n",
    "Standard deviation is the square root of the variance and provides a measure of dispersion in the same unit as the data points.\n",
    "Standard Deviation = √Variance\n",
    "Standard Deviation ≈ √29.9 ≈ 5.47 (rounded to two decimal places)\n",
    "The standard deviation of approximately 5.47 represents the average amount of deviation of each exam score from the mean. A larger standard deviation implies greater variability or spread in the exam scores."
   ]
  },
  {
   "cell_type": "markdown",
   "id": "116ee91f-dd0c-48c6-85be-47ac34d447ef",
   "metadata": {},
   "source": [
    "Q6. What is a Venn diagram?"
   ]
  },
  {
   "cell_type": "markdown",
   "id": "19972551-03c1-46f1-a80b-9a039246780f",
   "metadata": {},
   "source": [
    "    A Venn diagram is a graphical representation of the relationships between different sets or groups. It consists of overlapping circles, each representing a set, and the overlapping regions represent the elements that belong to multiple sets. Venn diagrams are used to visualize and analyze the similarities and differences between different sets or categories of data."
   ]
  },
  {
   "cell_type": "markdown",
   "id": "21df2862-a0c8-4438-bc69-adcf23106381",
   "metadata": {},
   "source": [
    "Q7. For the two given sets A = (2,3,4,5,6,7) & B = (0,2,6,8,10). Find:\n",
    "\n",
    "    (i) A and B #intersection\n",
    "    (ii) A ⋃ B"
   ]
  },
  {
   "cell_type": "code",
   "execution_count": 23,
   "id": "e1314133-0836-49ad-b92b-b5e62e9b88bc",
   "metadata": {},
   "outputs": [
    {
     "name": "stdout",
     "output_type": "stream",
     "text": [
      "Intersection (A ∩ B): {2, 6}\n",
      "Union (A ⋃ B): {0, 2, 3, 4, 5, 6, 7, 8, 10}\n"
     ]
    }
   ],
   "source": [
    "A = {2,3,4,5,6,7}\n",
    "B = {0,2,6,8,10}\n",
    "x=A.intersection(B)\n",
    "y=A.union(B)\n",
    "print(\"Intersection (A ∩ B):\", x)\n",
    "print(\"Union (A ⋃ B):\", y)"
   ]
  },
  {
   "cell_type": "markdown",
   "id": "5d247c47-8f9a-42b0-9fc5-cf15552670ad",
   "metadata": {},
   "source": [
    "Q8. What do you understand about skewness in data?"
   ]
  },
  {
   "cell_type": "markdown",
   "id": "38ccab80-3a6a-42c7-9530-b6bc8993c793",
   "metadata": {},
   "source": [
    "    Skewness is a statistical measure that describes the asymmetry of the probability distribution of a dataset. It indicates the degree to which the data is skewed or distorted to one side of the central tendency (mean, median, or mode). In other words, skewness measures the lack of symmetry in the data distribution."
   ]
  },
  {
   "cell_type": "markdown",
   "id": "2fc60351-d255-4a77-9a2d-e5b52a9c6152",
   "metadata": {},
   "source": [
    "Q9. If a data is right skewed then what will be the position of median with respect to mean?"
   ]
  },
  {
   "cell_type": "markdown",
   "id": "3b8c4ee7-772a-4162-b31b-2be772991070",
   "metadata": {},
   "source": [
    "    In a right-skewed distribution, the mean will be greater than the median.\n",
    "    Mean > Median\n"
   ]
  },
  {
   "cell_type": "markdown",
   "id": "68f36daf-e6b9-4904-bd82-7a29c10583f0",
   "metadata": {},
   "source": [
    "Q10. Explain the difference between covariance and correlation. How are these measures used in\n",
    "statistical analysis?"
   ]
  },
  {
   "cell_type": "markdown",
   "id": "73959a30-08a3-4783-9bae-ad856ae61abd",
   "metadata": {},
   "source": [
    "    Covariance:\n",
    "\n",
    "    Measures the degree of change between two variables.\n",
    "    Positive covariance: Variables tend to change together.\n",
    "    Negative covariance: Variables change in opposite directions.\n",
    "    Magnitude depends on variable scales, making interpretation difficult.\n",
    "    \n",
    "    Correlation:\n",
    "\n",
    "    Standardized measure of linear relationship between variables.\n",
    "    Range from -1 to +1:\n",
    "    +1: Perfect positive linear relationship.\n",
    "    -1: Perfect negative linear relationship.\n",
    "    0: No linear relationship.\n",
    "    Provides easier interpretation and comparison of relationships.\n",
    "    \n",
    "    Usage in Statistical Analysis:\n",
    "\n",
    "    Covariance: Determine relationship direction but lacks standardized strength.\n",
    "    Correlation: Analyze, compare, and predict relationships between variables accurately."
   ]
  },
  {
   "cell_type": "markdown",
   "id": "bc7c68fe-39a3-43ae-8994-cfd57d7a9f81",
   "metadata": {},
   "source": [
    "Q11. What is the formula for calculating the sample mean? Provide an example calculation for a\n",
    "dataset."
   ]
  },
  {
   "cell_type": "markdown",
   "id": "890df7a4-dbd5-4430-83d6-ca913c4127b1",
   "metadata": {},
   "source": [
    "    Sample Mean (x̄) = (Sum of all data points) / (Number of data points)"
   ]
  },
  {
   "cell_type": "code",
   "execution_count": 26,
   "id": "83c1d4ba-ee44-4d02-9514-3d5cb573021a",
   "metadata": {},
   "outputs": [
    {
     "name": "stdout",
     "output_type": "stream",
     "text": [
      "Sample mean is 25.0\n"
     ]
    }
   ],
   "source": [
    "dataset= [15, 20, 25, 30, 35]\n",
    "x=np.mean(dataset)\n",
    "print(\"Sample mean is {}\".format(x))"
   ]
  },
  {
   "cell_type": "markdown",
   "id": "6fe4edc5-840d-438a-a044-ae24446b50ce",
   "metadata": {},
   "source": [
    "Q12. For a normal distribution data what is the relationship between its measure of central tendency?"
   ]
  },
  {
   "cell_type": "markdown",
   "id": "c48031d1-0805-4b56-8634-058ddd67d704",
   "metadata": {},
   "source": [
    "In a normal distribution:\n",
    "\n",
    "    Mean = Median = Mode.\n",
    "    All three measures of central tendency have the same value.\n",
    "    The distribution is perfectly symmetrical around the center."
   ]
  },
  {
   "cell_type": "markdown",
   "id": "9ddc7c2b-430d-4cf2-a391-6ff2935e2b94",
   "metadata": {},
   "source": [
    "Q13. How is covariance different from correlation?"
   ]
  },
  {
   "cell_type": "markdown",
   "id": "2edf3795-b09f-4751-b2a6-3405655e6828",
   "metadata": {},
   "source": [
    "    Covariance:\n",
    "\n",
    "    Measures the degree to which two variables change together.\n",
    "    Indicates the direction of the relationship (positive or negative).\n",
    "    Magnitude is affected by variable scales, making it hard to compare.\n",
    "    \n",
    "    Correlation:\n",
    "    \n",
    "    Standardized version of covariance (between -1 and +1).\n",
    "    Measures strength and direction of linear relationship.\n",
    "    Independent of variable scales, making it easy to interpret and compare."
   ]
  },
  {
   "cell_type": "markdown",
   "id": "46370d62-1816-4471-b0f0-29bf582851ee",
   "metadata": {},
   "source": [
    "Q14. How do outliers affect measures of central tendency and dispersion? Provide an example."
   ]
  },
  {
   "cell_type": "markdown",
   "id": "d6d171ea-ccdf-4109-9b9e-5d4693a9a0ba",
   "metadata": {},
   "source": [
    "Outliers can significantly affect measures of central tendency and dispersion in a dataset. An outlier is an extreme value that is far away from the rest of the data points and can distort the overall characteristics of the dataset."
   ]
  },
  {
   "cell_type": "code",
   "execution_count": 27,
   "id": "7c86e71d-d90c-49a2-8238-46a187cdf3f7",
   "metadata": {},
   "outputs": [],
   "source": [
    "x=[78, 82, 85, 88, 91, 72, 90, 85, 86, 84, 100]"
   ]
  },
  {
   "cell_type": "markdown",
   "id": "a102048b-7086-4be0-a0b4-4499fc7d71d5",
   "metadata": {},
   "source": [
    "Here, the value \"100\" is an outlier as it is much higher than the rest of the scores.\n",
    "\n",
    "Impact on Measures of Central Tendency:\n",
    "\n",
    "Mean:\n",
    "\n",
    "The mean is sensitive to outliers because it takes into account all the data points.\n",
    "In the presence of an outlier, the mean gets pulled towards the outlier's extreme value.\n",
    "In our example, adding the outlier \"100\" to the data will increase the mean significantly.\n",
    "\n",
    "Median:\n",
    "\n",
    "The median is less affected by outliers because it only considers the middle value.\n",
    "In the presence of an outlier, the median does not change significantly.\n",
    "In our example, the median remains almost the same even after adding the outlier \"100.\"\n",
    "\n",
    "Mode:\n",
    "\n",
    "The mode is not influenced by outliers since it represents the most frequent value(s).\n",
    "In our example, the mode remains unchanged as the outlier \"100\" does not affect the most common values."
   ]
  },
  {
   "cell_type": "markdown",
   "id": "60b77d76-5bde-4f8b-a064-200f16d0a8a9",
   "metadata": {},
   "source": [
    "Impact on Measures of Dispersion:\n",
    "\n",
    "Range:\n",
    "\n",
    "The range is affected by outliers since it depends on the minimum and maximum values in the dataset.\n",
    "The presence of an outlier can significantly increase the range, making it less representative of the spread of the majority of the data points.\n",
    "\n",
    "Variance and Standard Deviation:\n",
    "\n",
    "Both variance and standard deviation are influenced by outliers because they measure the spread of data from the central tendency.\n",
    "Outliers introduce larger deviations from the mean, increasing both variance and standard deviation."
   ]
  }
 ],
 "metadata": {
  "kernelspec": {
   "display_name": "Python 3 (ipykernel)",
   "language": "python",
   "name": "python3"
  },
  "language_info": {
   "codemirror_mode": {
    "name": "ipython",
    "version": 3
   },
   "file_extension": ".py",
   "mimetype": "text/x-python",
   "name": "python",
   "nbconvert_exporter": "python",
   "pygments_lexer": "ipython3",
   "version": "3.10.8"
  }
 },
 "nbformat": 4,
 "nbformat_minor": 5
}
